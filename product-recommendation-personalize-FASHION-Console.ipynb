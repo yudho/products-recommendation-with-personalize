{
 "cells": [
  {
   "cell_type": "markdown",
   "metadata": {},
   "source": [
    "# Building Product Recommendation Engine with Amazon Personalize"
   ]
  },
  {
   "cell_type": "markdown",
   "metadata": {},
   "source": [
    "In this lab, we would like to use Amazon.com’s customer rating data to build product recommendation plugin for our website. We will use Amazon Personalize to train the recommender model and to host the recommendation inference. In addition, we will test out the inference and display the items that user rated and items that are recommended for that user."
   ]
  },
  {
   "cell_type": "markdown",
   "metadata": {},
   "source": [
    "## Download and prepare sample dataset"
   ]
  },
  {
   "cell_type": "code",
   "execution_count": null,
   "metadata": {},
   "outputs": [],
   "source": [
    "!curl -o ./metadata.json.gz http://deepyeti.ucsd.edu/jianmo/amazon/metaFiles/meta_AMAZON_FASHION.json.gz\n",
    "!curl -o ./ratings.json.gz http://deepyeti.ucsd.edu/jianmo/amazon/categoryFiles/AMAZON_FASHION.json.gz"
   ]
  },
  {
   "cell_type": "markdown",
   "metadata": {},
   "source": [
    "Data by:    \n",
    "Justifying recommendations using distantly-labeled reviews and fined-grained aspects. Jianmo Ni, Jiacheng Li, Julian McAuley. Empirical Methods in Natural Language Processing (EMNLP), 2019."
   ]
  },
  {
   "cell_type": "code",
   "execution_count": null,
   "metadata": {},
   "outputs": [],
   "source": [
    "!gunzip -f ratings.json.gz\n",
    "!gunzip -f metadata.json.gz"
   ]
  },
  {
   "cell_type": "markdown",
   "metadata": {},
   "source": [
    "**Loading ratings into panda data frame**"
   ]
  },
  {
   "cell_type": "code",
   "execution_count": null,
   "metadata": {},
   "outputs": [],
   "source": [
    "import pandas as pd \n",
    "ratings_df = pd.read_json(\"./ratings.json\", lines=True)"
   ]
  },
  {
   "cell_type": "code",
   "execution_count": null,
   "metadata": {},
   "outputs": [],
   "source": [
    "ratings_df = ratings_df.drop(columns=['reviewerName'])"
   ]
  },
  {
   "cell_type": "code",
   "execution_count": null,
   "metadata": {},
   "outputs": [],
   "source": [
    "ratings_df.head()"
   ]
  },
  {
   "cell_type": "markdown",
   "metadata": {},
   "source": [
    "**Include only important columns**"
   ]
  },
  {
   "cell_type": "code",
   "execution_count": null,
   "metadata": {},
   "outputs": [],
   "source": [
    "ratings_df = ratings_df[[\"reviewerID\",\"asin\",\"overall\",\"unixReviewTime\"]]"
   ]
  },
  {
   "cell_type": "code",
   "execution_count": null,
   "metadata": {},
   "outputs": [],
   "source": [
    "ratings_df.head()"
   ]
  },
  {
   "cell_type": "markdown",
   "metadata": {},
   "source": [
    "**This is how the ratings file look like (first 5 lines)**"
   ]
  },
  {
   "cell_type": "code",
   "execution_count": null,
   "metadata": {},
   "outputs": [],
   "source": [
    "import boto3\n",
    "\n",
    "personalize = boto3.client('personalize')\n",
    "personalize_runtime = boto3.client('personalize-runtime')"
   ]
  },
  {
   "cell_type": "markdown",
   "metadata": {},
   "source": [
    "**Take rating 4 and 5 as positive reviews**"
   ]
  },
  {
   "cell_type": "code",
   "execution_count": null,
   "metadata": {},
   "outputs": [],
   "source": [
    "ratings_df = ratings_df[ratings_df['overall'] > 3]     "
   ]
  },
  {
   "cell_type": "markdown",
   "metadata": {},
   "source": [
    "**Rename column headers for Personalize**"
   ]
  },
  {
   "cell_type": "code",
   "execution_count": null,
   "metadata": {},
   "outputs": [],
   "source": [
    "ratings_df = ratings_df.rename(columns={'reviewerID':'USER_ID', 'asin':'ITEM_ID', 'unixReviewTime':'TIMESTAMP'})"
   ]
  },
  {
   "cell_type": "code",
   "execution_count": null,
   "metadata": {},
   "outputs": [],
   "source": [
    "ratings_df.head()"
   ]
  },
  {
   "cell_type": "markdown",
   "metadata": {},
   "source": [
    "## Specify a bucket and data output location"
   ]
  },
  {
   "cell_type": "code",
   "execution_count": null,
   "metadata": {},
   "outputs": [],
   "source": [
    "import sagemaker\n",
    "sess = sagemaker.Session()\n",
    "bucket = sess.default_bucket()\n",
    "prefix = 'recommendation-engine-with-personalize-fashion-console'\n",
    "filename = \"clean_product_ratings.csv\""
   ]
  },
  {
   "cell_type": "code",
   "execution_count": null,
   "metadata": {},
   "outputs": [],
   "source": [
    "ratings_df.to_csv(filename, index=False)\n",
    "\n",
    "boto3.Session().resource('s3').Bucket(bucket).Object(\"{}/{}\".format(prefix,filename)).upload_file(filename)\n",
    "\n"
   ]
  },
  {
   "cell_type": "code",
   "execution_count": null,
   "metadata": {},
   "outputs": [],
   "source": [
    "print(\"{}/{}/{}\".format(bucket,prefix,filename))"
   ]
  },
  {
   "cell_type": "markdown",
   "metadata": {},
   "source": [
    "## Build with Personalize using AWS UI Console"
   ]
  },
  {
   "cell_type": "markdown",
   "metadata": {},
   "source": [
    "Please follow https://docs.aws.amazon.com/personalize/latest/dg/getting-started-console.html"
   ]
  },
  {
   "cell_type": "markdown",
   "metadata": {},
   "source": [
    "## Clean and upload product metadata"
   ]
  },
  {
   "cell_type": "code",
   "execution_count": null,
   "metadata": {},
   "outputs": [],
   "source": [
    "filename = 'metadata.json'\n",
    "boto3.Session().resource('s3').Bucket(bucket).Object(\"{}/{}\".format(prefix,filename)).upload_file(filename)"
   ]
  },
  {
   "cell_type": "markdown",
   "metadata": {},
   "source": [
    "## Prepare for inference"
   ]
  },
  {
   "cell_type": "markdown",
   "metadata": {},
   "source": [
    "**Prepare method to enrich the items information with title and image URL**"
   ]
  },
  {
   "cell_type": "code",
   "execution_count": null,
   "metadata": {},
   "outputs": [],
   "source": [
    "import json\n",
    "def encrich_with_metadata(products):\n",
    "    #products = list(map(lambda x: x.encode('ascii'), products))\n",
    "    client = boto3.client('s3')\n",
    "    r = client.select_object_content(\n",
    "        Bucket=bucket,\n",
    "        Key=\"{}/metadata.json\".format(prefix),\n",
    "        Expression=\"SELECT s.image, s.asin, s.title FROM S3Object s WHERE s.asin IN {}\".format(products),\n",
    "        ExpressionType='SQL',\n",
    "        RequestProgress={\n",
    "            'Enabled': False\n",
    "        },\n",
    "        InputSerialization={\n",
    "            'JSON': {\n",
    "                'Type': 'LINES'\n",
    "            }\n",
    "        },\n",
    "        OutputSerialization={\n",
    "            'JSON':{\n",
    "                'RecordDelimiter': '\\n',\n",
    "            }\n",
    "        },\n",
    "    )\n",
    "    output = []\n",
    "    for event in r['Payload']:\n",
    "        if 'Records' in event:\n",
    "            recs = event['Records']['Payload'].decode('utf-8').strip().split(\"\\n\")\n",
    "            recs = list(map(lambda x: json.loads(x), recs))\n",
    "            output += recs\n",
    "    return output"
   ]
  },
  {
   "cell_type": "markdown",
   "metadata": {},
   "source": [
    "**Get a sample user to test**"
   ]
  },
  {
   "cell_type": "code",
   "execution_count": null,
   "metadata": {},
   "outputs": [],
   "source": [
    "# Get a user who has considerable number of reviews\n",
    "my_list = ratings_df['USER_ID'].value_counts()[:10000].index.to_list()\n",
    "#user_id = my_list[9125].encode('ascii')\n",
    "user_id = my_list[6543].encode('ascii')\n",
    "user_id"
   ]
  },
  {
   "cell_type": "markdown",
   "metadata": {},
   "source": [
    "**Define method to display items for view purpose**"
   ]
  },
  {
   "cell_type": "code",
   "execution_count": null,
   "metadata": {},
   "outputs": [],
   "source": [
    "import re\n",
    "def display_items(items):\n",
    "    image_string = \"\"\n",
    "    i = 1\n",
    "    for item in items:\n",
    "        if 'score' in item:\n",
    "            caption = \"{}---Score:{}---Name: {}---ASIN:{}\".format(str(i),item['score'], item['title'],item['asin'])\n",
    "        else:\n",
    "            caption = \"{}---Name: {}---ASIN:{}\".format(str(i),item['title'],item['asin'])\n",
    "        if len(item['image']) > 0:\n",
    "            image = item['image'][0]\n",
    "            image = re.sub(r'SR..,..','SR200,200',image)\n",
    "            image = re.sub(r'US..','US200',image)\n",
    "            image = re.sub(r'SS..','SS200',image)\n",
    "            image = re.sub(r'SX..','SX200',image)\n",
    "            image = re.sub(r'SY..','SX200',image)\n",
    "            image = re.sub(r'CR,0,0,..,..','CR,0,0,200,200',image)\n",
    "            image_string += '<figure style=\"float:left;\"><img src=\"{}\" alt=\"\" width=\"200\"/><figcaption ><center>{}</center></figcaption></figure></br>'.format(image,caption)\n",
    "        else:\n",
    "            image_string += '<figure style=\"float:left;\"><img src=\"\" alt=\"\" width=\"200\"/><figcaption ><center>{}</center></figcaption></figure></br>'.format(caption)\n",
    "        i = i+1\n",
    "    return image_string"
   ]
  },
  {
   "cell_type": "markdown",
   "metadata": {},
   "source": [
    "**Get actual items that user reviewed with rating > 3 and enrich with title and image URL**"
   ]
  },
  {
   "cell_type": "code",
   "execution_count": null,
   "metadata": {},
   "outputs": [],
   "source": [
    "actual_item_list = list(ratings_df[ratings_df[\"USER_ID\"] == user_id]['ITEM_ID'])\n",
    "actual_items = encrich_with_metadata(actual_item_list)"
   ]
  },
  {
   "cell_type": "code",
   "execution_count": null,
   "metadata": {},
   "outputs": [],
   "source": [
    "from IPython.display import HTML\n",
    "HTML(data=display_items(actual_items))"
   ]
  },
  {
   "cell_type": "markdown",
   "metadata": {},
   "source": [
    "**Get recommendation for user personalize recipe and enrich recommended items with title and images**\n"
   ]
  },
  {
   "cell_type": "code",
   "execution_count": null,
   "metadata": {},
   "outputs": [],
   "source": [
    "campaign_arn_up = 'arn:aws:personalize:ap-southeast-1:344028372807:campaign/my-fashion-test-campaign'"
   ]
  },
  {
   "cell_type": "code",
   "execution_count": null,
   "metadata": {},
   "outputs": [],
   "source": [
    "get_recommendations_response_up = personalize_runtime.get_recommendations(\n",
    "    campaignArn = campaign_arn_up,\n",
    "    userId = str(user_id),\n",
    "    numResults=3,\n",
    "    filterArn='arn:aws:personalize:ap-southeast-1:344028372807:filter/fashion-test-exclude-purchases1'\n",
    ")\n",
    "\n",
    "recommended_item_list = list(map(lambda x: x['itemId'], get_recommendations_response_up['itemList']))\n",
    "print(get_recommendations_response_up['itemList'])"
   ]
  },
  {
   "cell_type": "markdown",
   "metadata": {},
   "source": [
    "**Prepare for display**"
   ]
  },
  {
   "cell_type": "code",
   "execution_count": null,
   "metadata": {},
   "outputs": [],
   "source": [
    "recommended_items = encrich_with_metadata(recommended_item_list)\n",
    "items_dictionary = {}\n",
    "for item in get_recommendations_response_up['itemList']:\n",
    "    items_dictionary[item['itemId']]=item['score']                                           \n",
    "for item in recommended_items:\n",
    "    item['score'] = items_dictionary[item['asin']]\n",
    "recommended_items.sort(key=lambda x: x['score'], reverse=True)"
   ]
  },
  {
   "cell_type": "markdown",
   "metadata": {},
   "source": [
    "**These are the actual items that user reviewed**"
   ]
  },
  {
   "cell_type": "code",
   "execution_count": null,
   "metadata": {},
   "outputs": [],
   "source": [
    "from IPython.display import HTML\n",
    "HTML(data=display_items(recommended_items))"
   ]
  },
  {
   "cell_type": "code",
   "execution_count": null,
   "metadata": {},
   "outputs": [],
   "source": []
  }
 ],
 "metadata": {
  "kernelspec": {
   "display_name": "conda_python3",
   "language": "python",
   "name": "conda_python3"
  },
  "language_info": {
   "codemirror_mode": {
    "name": "ipython",
    "version": 3
   },
   "file_extension": ".py",
   "mimetype": "text/x-python",
   "name": "python",
   "nbconvert_exporter": "python",
   "pygments_lexer": "ipython3",
   "version": "3.6.10"
  }
 },
 "nbformat": 4,
 "nbformat_minor": 2
}
